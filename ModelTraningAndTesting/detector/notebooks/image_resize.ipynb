{
 "cells": [
  {
   "cell_type": "code",
   "id": "initial_id",
   "metadata": {
    "collapsed": true,
    "ExecuteTime": {
     "end_time": "2024-04-12T05:43:49.909003Z",
     "start_time": "2024-04-12T05:43:49.903003Z"
    }
   },
   "source": "from PIL import Image, ImageOps",
   "outputs": [],
   "execution_count": 17
  },
  {
   "metadata": {
    "ExecuteTime": {
     "end_time": "2024-04-12T05:43:50.019Z",
     "start_time": "2024-04-12T05:43:50.015849Z"
    }
   },
   "cell_type": "code",
   "source": "file_path = '../../data/traffic_Data/DATA/0/000_1_0001.png'",
   "id": "fb05f7de43af1283",
   "outputs": [],
   "execution_count": 18
  },
  {
   "metadata": {
    "ExecuteTime": {
     "end_time": "2024-04-12T05:43:50.192308Z",
     "start_time": "2024-04-12T05:43:50.188543Z"
    }
   },
   "cell_type": "code",
   "source": "image = Image.open(file_path)",
   "id": "6cbc935869c59be",
   "outputs": [],
   "execution_count": 19
  },
  {
   "metadata": {
    "ExecuteTime": {
     "end_time": "2024-04-12T05:43:50.617298Z",
     "start_time": "2024-04-12T05:43:50.613421Z"
    }
   },
   "cell_type": "code",
   "source": "# image.show()",
   "id": "eccf9c5f6d0c8af1",
   "outputs": [],
   "execution_count": 20
  },
  {
   "metadata": {
    "ExecuteTime": {
     "end_time": "2024-04-12T05:43:51.338400Z",
     "start_time": "2024-04-12T05:43:51.311502Z"
    }
   },
   "cell_type": "code",
   "source": [
    "# image.thumbnail((224, 224), Image.LANCZOS)\n",
    "\n",
    "image = ImageOps.contain(image, (224, 224))\n",
    "\n",
    "file_path_new = '../../data/traffic_Data/DATA/0/000_1_0002_224x224.png'\n",
    "image.save(file_path_new)\n",
    "\n",
    "print(image.size)"
   ],
   "id": "498d5c20d671cbb9",
   "outputs": [
    {
     "name": "stdout",
     "output_type": "stream",
     "text": [
      "(224, 214)\n"
     ]
    }
   ],
   "execution_count": 21
  },
  {
   "metadata": {
    "ExecuteTime": {
     "end_time": "2024-04-12T05:52:25.018774Z",
     "start_time": "2024-04-12T05:52:24.817137Z"
    }
   },
   "cell_type": "code",
   "source": [
    "import cv2\n",
    "import numpy as np\n",
    "\n",
    "def preprocess(img, input_shape, letter_box=True):\n",
    "    \"\"\"img:         input image in numpy array\n",
    "       input_shape: [height, width] of input image, this is the target shape for the model\n",
    "       letter_box:  control whether to apply letterbox resizing \"\"\"\n",
    "    if letter_box:\n",
    "        img_h, img_w, _ = img.shape                    #img is opened with opencv, in shape(h, w, c), this is the original image shape\n",
    "        new_h, new_w = input_shape[0], input_shape[1]  # desired input shape for the model\n",
    "        offset_h, offset_w = 0, 0                      # initialize the offset\n",
    "        if (new_w / img_w) <= (new_h / img_h):         # if the resizing scale of width is lower than that of height\n",
    "            new_h = int(img_h * new_w / img_w)         # get a new_h that is with the same resizing scale of width\n",
    "            offset_h = (input_shape[0] - new_h) // 2   # update the offset_h \n",
    "        else:\n",
    "            new_w = int(img_w * new_h / img_h)         # if the resizing scale of width is higher than that of height, update new_w\n",
    "            offset_w = (input_shape[1] - new_w) // 2   # update the offset_w\n",
    "        resized = cv2.resize(img, (new_w, new_h))      # get resized image using new_w and new_h\n",
    "        img = np.full((input_shape[0], input_shape[1], 3), 127, dtype=np.uint8) # initialize a img with pixel value 127, gray color\n",
    "        img[offset_h:(offset_h + new_h), offset_w:(offset_w + new_w), :] = resized \n",
    "    else:\n",
    "        img = cv2.resize(img, (input_shape[1], input_shape[0]))\n",
    "\n",
    "    return img"
   ],
   "id": "7faa8ce1df1de9f6",
   "outputs": [],
   "execution_count": 22
  },
  {
   "metadata": {
    "ExecuteTime": {
     "end_time": "2024-04-12T05:52:46.472831Z",
     "start_time": "2024-04-12T05:52:46.458657Z"
    }
   },
   "cell_type": "code",
   "source": "img = cv2.imread(file_path)",
   "id": "c1913e4bd5e58ad8",
   "outputs": [],
   "execution_count": 23
  },
  {
   "metadata": {
    "ExecuteTime": {
     "end_time": "2024-04-12T05:53:33.691347Z",
     "start_time": "2024-04-12T05:53:33.687289Z"
    }
   },
   "cell_type": "code",
   "source": [
    "from typing import Tuple\n",
    "\n",
    "new_size: Tuple[int, int] = (224, 244)"
   ],
   "id": "aa5edbed3e3b43c7",
   "outputs": [],
   "execution_count": 26
  },
  {
   "metadata": {
    "ExecuteTime": {
     "end_time": "2024-04-12T05:54:02.856038Z",
     "start_time": "2024-04-12T05:54:02.852156Z"
    }
   },
   "cell_type": "code",
   "source": "preserved_img = preprocess(img, new_size, letter_box=True)",
   "id": "278ab46891f483e0",
   "outputs": [],
   "execution_count": 28
  },
  {
   "metadata": {
    "ExecuteTime": {
     "end_time": "2024-04-12T05:54:03.574702Z",
     "start_time": "2024-04-12T05:54:03.564030Z"
    }
   },
   "cell_type": "code",
   "source": "cv2.imwrite(file_path_new, preserved_img)",
   "id": "959922d20d08d12",
   "outputs": [
    {
     "data": {
      "text/plain": [
       "True"
      ]
     },
     "execution_count": 29,
     "metadata": {},
     "output_type": "execute_result"
    }
   ],
   "execution_count": 29
  },
  {
   "metadata": {},
   "cell_type": "code",
   "outputs": [],
   "execution_count": null,
   "source": "",
   "id": "e68ea49f5b22ee22"
  }
 ],
 "metadata": {
  "kernelspec": {
   "display_name": "Python 3",
   "language": "python",
   "name": "python3"
  },
  "language_info": {
   "codemirror_mode": {
    "name": "ipython",
    "version": 2
   },
   "file_extension": ".py",
   "mimetype": "text/x-python",
   "name": "python",
   "nbconvert_exporter": "python",
   "pygments_lexer": "ipython2",
   "version": "2.7.6"
  }
 },
 "nbformat": 4,
 "nbformat_minor": 5
}
